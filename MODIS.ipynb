{
 "cells": [
  {
   "cell_type": "code",
   "execution_count": 1,
   "metadata": {},
   "outputs": [],
   "source": [
    "import gdal\n",
    "import matplotlib.pyplot as plt\n",
    "import numpy as np"
   ]
  },
  {
   "cell_type": "code",
   "execution_count": 2,
   "metadata": {},
   "outputs": [],
   "source": [
    "hdf = gdal.Open ('G:\\Python_Learning\\Python_RS\\Image_Copy\\Image\\MODIS\\MOD09A1.A2017081.h21v05.005.2017090202638.hdf')\n",
    "bands = []"
   ]
  },
  {
   "cell_type": "code",
   "execution_count": 3,
   "metadata": {},
   "outputs": [
    {
     "name": "stdout",
     "output_type": "stream",
     "text": [
      "[2400x2400] sur_refl_b01 MOD_Grid_500m_Surface_Reflectance (16-bit integer)\n",
      "[2400x2400] sur_refl_b02 MOD_Grid_500m_Surface_Reflectance (16-bit integer)\n",
      "[2400x2400] sur_refl_b03 MOD_Grid_500m_Surface_Reflectance (16-bit integer)\n",
      "[2400x2400] sur_refl_b04 MOD_Grid_500m_Surface_Reflectance (16-bit integer)\n",
      "[2400x2400] sur_refl_b05 MOD_Grid_500m_Surface_Reflectance (16-bit integer)\n",
      "[2400x2400] sur_refl_b06 MOD_Grid_500m_Surface_Reflectance (16-bit integer)\n",
      "[2400x2400] sur_refl_b07 MOD_Grid_500m_Surface_Reflectance (16-bit integer)\n",
      "[2400x2400] sur_refl_qc_500m MOD_Grid_500m_Surface_Reflectance (32-bit unsigned integer)\n",
      "[2400x2400] sur_refl_szen MOD_Grid_500m_Surface_Reflectance (16-bit integer)\n",
      "[2400x2400] sur_refl_vzen MOD_Grid_500m_Surface_Reflectance (16-bit integer)\n",
      "[2400x2400] sur_refl_raz MOD_Grid_500m_Surface_Reflectance (16-bit integer)\n",
      "[2400x2400] sur_refl_state_500m MOD_Grid_500m_Surface_Reflectance (16-bit unsigned integer)\n",
      "[2400x2400] sur_refl_day_of_year MOD_Grid_500m_Surface_Reflectance (16-bit unsigned integer)\n"
     ]
    }
   ],
   "source": [
    "for sd, des in hdf.GetSubDatasets():\n",
    "    bands.append(sd)\n",
    "    print (des)"
   ]
  },
  {
   "cell_type": "code",
   "execution_count": 4,
   "metadata": {},
   "outputs": [
    {
     "data": {
      "text/plain": [
       "['HDF4_EOS:EOS_GRID:\"G:\\\\Python_Learning\\\\Python_RS\\\\Image_Copy\\\\Image\\\\MODIS\\\\MOD09A1.A2017081.h21v05.005.2017090202638.hdf\":MOD_Grid_500m_Surface_Reflectance:sur_refl_b01',\n",
       " 'HDF4_EOS:EOS_GRID:\"G:\\\\Python_Learning\\\\Python_RS\\\\Image_Copy\\\\Image\\\\MODIS\\\\MOD09A1.A2017081.h21v05.005.2017090202638.hdf\":MOD_Grid_500m_Surface_Reflectance:sur_refl_b02',\n",
       " 'HDF4_EOS:EOS_GRID:\"G:\\\\Python_Learning\\\\Python_RS\\\\Image_Copy\\\\Image\\\\MODIS\\\\MOD09A1.A2017081.h21v05.005.2017090202638.hdf\":MOD_Grid_500m_Surface_Reflectance:sur_refl_b03',\n",
       " 'HDF4_EOS:EOS_GRID:\"G:\\\\Python_Learning\\\\Python_RS\\\\Image_Copy\\\\Image\\\\MODIS\\\\MOD09A1.A2017081.h21v05.005.2017090202638.hdf\":MOD_Grid_500m_Surface_Reflectance:sur_refl_b04',\n",
       " 'HDF4_EOS:EOS_GRID:\"G:\\\\Python_Learning\\\\Python_RS\\\\Image_Copy\\\\Image\\\\MODIS\\\\MOD09A1.A2017081.h21v05.005.2017090202638.hdf\":MOD_Grid_500m_Surface_Reflectance:sur_refl_b05',\n",
       " 'HDF4_EOS:EOS_GRID:\"G:\\\\Python_Learning\\\\Python_RS\\\\Image_Copy\\\\Image\\\\MODIS\\\\MOD09A1.A2017081.h21v05.005.2017090202638.hdf\":MOD_Grid_500m_Surface_Reflectance:sur_refl_b06',\n",
       " 'HDF4_EOS:EOS_GRID:\"G:\\\\Python_Learning\\\\Python_RS\\\\Image_Copy\\\\Image\\\\MODIS\\\\MOD09A1.A2017081.h21v05.005.2017090202638.hdf\":MOD_Grid_500m_Surface_Reflectance:sur_refl_b07',\n",
       " 'HDF4_EOS:EOS_GRID:\"G:\\\\Python_Learning\\\\Python_RS\\\\Image_Copy\\\\Image\\\\MODIS\\\\MOD09A1.A2017081.h21v05.005.2017090202638.hdf\":MOD_Grid_500m_Surface_Reflectance:sur_refl_qc_500m',\n",
       " 'HDF4_EOS:EOS_GRID:\"G:\\\\Python_Learning\\\\Python_RS\\\\Image_Copy\\\\Image\\\\MODIS\\\\MOD09A1.A2017081.h21v05.005.2017090202638.hdf\":MOD_Grid_500m_Surface_Reflectance:sur_refl_szen',\n",
       " 'HDF4_EOS:EOS_GRID:\"G:\\\\Python_Learning\\\\Python_RS\\\\Image_Copy\\\\Image\\\\MODIS\\\\MOD09A1.A2017081.h21v05.005.2017090202638.hdf\":MOD_Grid_500m_Surface_Reflectance:sur_refl_vzen',\n",
       " 'HDF4_EOS:EOS_GRID:\"G:\\\\Python_Learning\\\\Python_RS\\\\Image_Copy\\\\Image\\\\MODIS\\\\MOD09A1.A2017081.h21v05.005.2017090202638.hdf\":MOD_Grid_500m_Surface_Reflectance:sur_refl_raz',\n",
       " 'HDF4_EOS:EOS_GRID:\"G:\\\\Python_Learning\\\\Python_RS\\\\Image_Copy\\\\Image\\\\MODIS\\\\MOD09A1.A2017081.h21v05.005.2017090202638.hdf\":MOD_Grid_500m_Surface_Reflectance:sur_refl_state_500m',\n",
       " 'HDF4_EOS:EOS_GRID:\"G:\\\\Python_Learning\\\\Python_RS\\\\Image_Copy\\\\Image\\\\MODIS\\\\MOD09A1.A2017081.h21v05.005.2017090202638.hdf\":MOD_Grid_500m_Surface_Reflectance:sur_refl_day_of_year']"
      ]
     },
     "execution_count": 4,
     "metadata": {},
     "output_type": "execute_result"
    }
   ],
   "source": [
    "bands"
   ]
  },
  {
   "cell_type": "code",
   "execution_count": 8,
   "metadata": {},
   "outputs": [],
   "source": [
    "MOD_B1 = gdal.Open(bands[0]).ReadAsArray().astype(float)\n",
    "MOD_B2 = gdal.Open(bands[1]).ReadAsArray().astype(float)\n",
    "MOD_B3 = gdal.Open(bands[2]).ReadAsArray().astype(float)\n",
    "MOD_B4 = gdal.Open(bands[3]).ReadAsArray().astype(float)\n",
    "MOD_B5 = gdal.Open(bands[4]).ReadAsArray().astype(float)\n",
    "MOD_B6 = gdal.Open(bands[5]).ReadAsArray().astype(float)"
   ]
  },
  {
   "cell_type": "code",
   "execution_count": 9,
   "metadata": {},
   "outputs": [
    {
     "data": {
      "text/plain": [
       "array([[7124., 8183., 8683., ...,   27.,   28.,   28.],\n",
       "       [7998., 6518., 8183., ...,   25.,   25.,   22.],\n",
       "       [9567., 9508., 8200., ...,   26.,   26.,   28.],\n",
       "       ...,\n",
       "       [3357., 3135., 2749., ..., 3478., 3525., 3525.],\n",
       "       [3308., 2858., 2468., ..., 3460., 3444., 3476.],\n",
       "       [2799., 2796., 2492., ..., 3407., 3420., 3478.]])"
      ]
     },
     "execution_count": 9,
     "metadata": {},
     "output_type": "execute_result"
    }
   ],
   "source": [
    "MOD_B1"
   ]
  },
  {
   "cell_type": "code",
   "execution_count": 10,
   "metadata": {},
   "outputs": [
    {
     "data": {
      "text/plain": [
       "dtype('float64')"
      ]
     },
     "execution_count": 10,
     "metadata": {},
     "output_type": "execute_result"
    }
   ],
   "source": [
    "MOD_B1.dtype"
   ]
  },
  {
   "cell_type": "code",
   "execution_count": 12,
   "metadata": {},
   "outputs": [],
   "source": [
    "NB1 = (MOD_B1-np.min(MOD_B1))/(np.max(MOD_B1)-np.min(MOD_B1))\n",
    "NB2 = (MOD_B2-np.min(MOD_B2))/(np.max(MOD_B2)-np.min(MOD_B2))\n",
    "NB3 = (MOD_B3-np.min(MOD_B3))/(np.max(MOD_B3)-np.min(MOD_B3))\n",
    "NB4 = (MOD_B4-np.min(MOD_B4))/(np.max(MOD_B4)-np.min(MOD_B4))\n",
    "NB5 = (MOD_B5-np.min(MOD_B5))/(np.max(MOD_B5)-np.min(MOD_B5))\n",
    "NB6 = (MOD_B6-np.min(MOD_B6))/(np.max(MOD_B6)-np.min(MOD_B6))"
   ]
  },
  {
   "cell_type": "code",
   "execution_count": 13,
   "metadata": {},
   "outputs": [],
   "source": [
    "LayerStack =np.stack([NB3, NB2, NB1], axis=2)"
   ]
  },
  {
   "cell_type": "code",
   "execution_count": null,
   "metadata": {},
   "outputs": [],
   "source": [
    "plt.figure(figsize=(15,20))\n",
    "plt.imshow(LayerStack)\n",
    "plt.title('MODIS_RGB543')\n",
    "plt.axis('off')\n",
    "plt.show()"
   ]
  },
  {
   "cell_type": "code",
   "execution_count": null,
   "metadata": {},
   "outputs": [],
   "source": []
  }
 ],
 "metadata": {
  "kernelspec": {
   "display_name": "Python 3",
   "language": "python",
   "name": "python3"
  },
  "language_info": {
   "codemirror_mode": {
    "name": "ipython",
    "version": 3
   },
   "file_extension": ".py",
   "mimetype": "text/x-python",
   "name": "python",
   "nbconvert_exporter": "python",
   "pygments_lexer": "ipython3",
   "version": "3.7.7"
  }
 },
 "nbformat": 4,
 "nbformat_minor": 4
}
